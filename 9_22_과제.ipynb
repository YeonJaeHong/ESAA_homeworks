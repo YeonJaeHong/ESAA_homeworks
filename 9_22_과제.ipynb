{
  "nbformat": 4,
  "nbformat_minor": 0,
  "metadata": {
    "colab": {
      "provenance": [],
      "authorship_tag": "ABX9TyOXWuCxBntXgMnfFxaVeFv4",
      "include_colab_link": true
    },
    "kernelspec": {
      "name": "python3",
      "display_name": "Python 3"
    },
    "language_info": {
      "name": "python"
    }
  },
  "cells": [
    {
      "cell_type": "markdown",
      "metadata": {
        "id": "view-in-github",
        "colab_type": "text"
      },
      "source": [
        "<a href=\"https://colab.research.google.com/github/YeonJaeHong/ESAA_homeworks/blob/main/9_22_%EA%B3%BC%EC%A0%9C.ipynb\" target=\"_parent\"><img src=\"https://colab.research.google.com/assets/colab-badge.svg\" alt=\"Open In Colab\"/></a>"
      ]
    },
    {
      "cell_type": "markdown",
      "source": [
        "파이썬 머신러닝 (118-145)"
      ],
      "metadata": {
        "id": "tWjMYETQbR1M"
      }
    },
    {
      "cell_type": "markdown",
      "source": [
        "05.데이터 전처리"
      ],
      "metadata": {
        "id": "HuZJ40gSbLKT"
      }
    },
    {
      "cell_type": "markdown",
      "source": [
        "데이터 전처리는 ML 알고리즘만큼 중요. 사이킷런의 ML 알고리즘을 적용하기 전 데이터에 대해 미리 처리해야할 기본 사항\n",
        ">> 결손값: NaN,NULL 값은 허용되지 않음->NULL 값은 고정된 다른 값으로 변환해야함\n",
        "*   feature 값들중 null값이 얼마 안되면 피처의 평균값으로 대체 가능 그러나 null 이 대부분이면 해당 피처는 드롭하는 것이 좋음\n",
        "*   가장 결정이 힘든 부분, null 값이 일정수준 존재 -> 평균으로 대체 했을때 왜곡이 심할때 정밀한 대체 값 선정\n",
        "\n",
        ">> 사이킷런의 머신러닝 알고지름은 문자열 값을 입력값으로 허용안함\n",
        "\n",
        "\n",
        "*   문자열 값을 인코딩 해서 숫자형으로 변환필요\n",
        "*   문자열 피처는 카테고리형과 텍스트형피처 의미  (각각을 코드값, 벡터화 기법 사용)\n",
        "\n",
        "\n",
        "\n",
        "\n",
        "\n"
      ],
      "metadata": {
        "id": "STQed3GKbIw3"
      }
    },
    {
      "cell_type": "markdown",
      "source": [
        "데이터 인코딩\n",
        "> 머신러닝을 위한 대표적인 인코딩 방법: Label encoding, OneHotencoding 두가지\n",
        ">> 레이블 인코딩\n",
        "\n",
        "\n",
        "*   카테고리 피처를 코드형 숫자로 변경 ('01'같은 코드 역시 문자열이므로 '1'로 바꿔야함)\n",
        "\n",
        "\n",
        "*   LabelEncoder 클래스로 구현한다. LabelEncoder를 객체로 생성한후 fit()과 transform()을 호출해 레이블 인코딩을 수행\n",
        "\n",
        "\n"
      ],
      "metadata": {
        "id": "SK8yvX9ZcU6z"
      }
    },
    {
      "cell_type": "code",
      "source": [
        "from sklearn.preprocessing import LabelEncoder\n",
        "items=['TV','냉장고','전자레인지','컴퓨터','선풍기','믹서','믹서']\n",
        "#LabelEncoder를 객체로 생성한후 fit()과 transform() 으로 레이블 인코딩 수행\n",
        "encoder=LabelEncoder()\n",
        "encoder.fit(items)\n",
        "labels=encoder.transform(items)\n",
        "print('인코딩 변환값:',labels)\n"
      ],
      "metadata": {
        "colab": {
          "base_uri": "https://localhost:8080/"
        },
        "id": "DBQlAnIacq7-",
        "outputId": "61520e0e-9328-46f5-c470-3749342498bb"
      },
      "execution_count": 10,
      "outputs": [
        {
          "output_type": "stream",
          "name": "stdout",
          "text": [
            "인코딩 변환값: [0 1 4 5 3 2 2]\n"
          ]
        }
      ]
    },
    {
      "cell_type": "code",
      "source": [
        "print('인코딩 클래스:',encoder.classes_)\n"
      ],
      "metadata": {
        "colab": {
          "base_uri": "https://localhost:8080/"
        },
        "id": "jSh1r8RqdVi_",
        "outputId": "04f3acee-822b-41c3-82a7-085070902ffa"
      },
      "execution_count": 11,
      "outputs": [
        {
          "output_type": "stream",
          "name": "stdout",
          "text": [
            "인코딩 클래스: ['TV' '냉장고' '믹서' '선풍기' '전자레인지' '컴퓨터']\n"
          ]
        }
      ]
    },
    {
      "cell_type": "code",
      "source": [
        "#classes_속성은 0번부터 순서대로 변환된 인코딩 값에 대한 원본값을 가지고 있다.\n",
        "#invers_transform()을 통해 인코딩 된 값을 다시 디코딩 할 수 있다.\n",
        "print('디코딩 원본값:',encoder.inverse_transform([4,5,2,0,1,1,3,3]))"
      ],
      "metadata": {
        "colab": {
          "base_uri": "https://localhost:8080/"
        },
        "id": "N653byuLl--W",
        "outputId": "6696ab36-b028-4e84-f274-584b20ba431d"
      },
      "execution_count": 12,
      "outputs": [
        {
          "output_type": "stream",
          "name": "stdout",
          "text": [
            "디코딩 원본값: ['전자레인지' '컴퓨터' '믹서' 'TV' '냉장고' '냉장고' '선풍기' '선풍기']\n"
          ]
        }
      ]
    },
    {
      "cell_type": "markdown",
      "source": [
        "레이블 인코딩은 간단하게 문자열 값을 숫자형 카테고리값으로 변환하는데, 레이블 인코딩이 일괄적인 숫자 값으로 변환이 되면서 몇몇 ML 알고리즘에는 이를 적용할 경우 예측 성능이 떨어지는 경우가 발생 할 수 있다.\n",
        "> 즉, 숫자의 크고 작음이 가중치를 부여할 수 있기에\n",
        ">> 이러한 레이블 인코딩의 문제점을 해결하기 위한 인코딩 방식이 ONE-HOT Encoding"
      ],
      "metadata": {
        "id": "MNAERogHnrT7"
      }
    },
    {
      "cell_type": "markdown",
      "source": [
        "ONE-HOT Encoding\n",
        "> 피처값의 유형에 따라 새로운 피처를 추가해 고유 값에 해당하는 칼럼에만 1을 표시하고 나머지 칼럼엔 0을 표시하는 방식.\n",
        "> 행 형태로 돼있는 피처의 고유 값을 열 형태로 차원을 변환한뒤, 고윳값에 해당하는 칼럼에만 1을 표시하고 나머지 칼럼에는 0을 표시"
      ],
      "metadata": {
        "id": "34hQIiR-oKzO"
      }
    },
    {
      "cell_type": "code",
      "source": [
        "#해당 고유 값에 매칭되는 피처만 1이 되고 나머지는 0을 입력하며, 이러한 특성으로 원-핫 (여러개중 하나만 1)인코딩으로 명명하게 됨\n",
        "#onehotencoder로 변환하기전 모든 문자열값은 숫자형으로 변환해야하고, 입력값으로 2차원 데이터가 필요하다\n",
        "#onehotencoder을 이용해 데이터 변경\n",
        "\n",
        "from sklearn.preprocessing import OneHotEncoder\n",
        "import numpy as np\n",
        "\n",
        "items=['TV','냉장고','전자레인지','컴퓨터','선풍기','믹서','믹서']\n",
        "\n",
        "#먼저 숫자값으로 변환을 위해 labelencoder로 변환한다\n",
        "encoder=LabelEncoder()\n",
        "encoder.fit(items)\n",
        "labels=encoder.transform(items)\n",
        "\n",
        "#2차원 데이터로 변환한다\n",
        "labels=labels.reshape(-1,1)\n",
        "\n",
        "#원핫인코딩\n",
        "oh_encoder=OneHotEncoder()\n",
        "oh_encoder.fit(labels)\n",
        "oh_labels=oh_encoder.transform(labels)\n",
        "print('원-핫 인코딩 데이터')\n",
        "print(oh_labels.toarray())\n",
        "print('원-핫 인코딩 데이터 차원')\n",
        "print(oh_labels.shape)\n"
      ],
      "metadata": {
        "colab": {
          "base_uri": "https://localhost:8080/"
        },
        "id": "D_7ZY_lnoSSh",
        "outputId": "03693964-f8d0-4af4-9aaf-60024290a16d"
      },
      "execution_count": 13,
      "outputs": [
        {
          "output_type": "stream",
          "name": "stdout",
          "text": [
            "원-핫 인코딩 데이터\n",
            "[[1. 0. 0. 0. 0. 0.]\n",
            " [0. 1. 0. 0. 0. 0.]\n",
            " [0. 0. 0. 0. 1. 0.]\n",
            " [0. 0. 0. 0. 0. 1.]\n",
            " [0. 0. 0. 1. 0. 0.]\n",
            " [0. 0. 1. 0. 0. 0.]\n",
            " [0. 0. 1. 0. 0. 0.]]\n",
            "원-핫 인코딩 데이터 차원\n",
            "(7, 6)\n"
          ]
        }
      ]
    },
    {
      "cell_type": "markdown",
      "source": [
        "판다스에는 원-핫 인코딩을 더 쉽게 지원하는 api 존재. get_dummies()를 이용하면 된다\n",
        "사이킷런의 onehotencoder과는 다르게 문자열 카테고리 값을 숫자형으로 변환할 필요 없이 바로 변환가능\n",
        "\n"
      ],
      "metadata": {
        "id": "TGro8wtCrSib"
      }
    },
    {
      "cell_type": "code",
      "source": [
        "import pandas as pd\n",
        "df=pd.DataFrame({'item':['TV','냉장고','전자레인지','컴퓨터','선풍기','선풍기','믹서','믹서']})\n",
        "pd.get_dummies(df)"
      ],
      "metadata": {
        "colab": {
          "base_uri": "https://localhost:8080/",
          "height": 300
        },
        "id": "qbVY7e8PqePx",
        "outputId": "6961eae8-3468-49ad-fa7b-b056ff14df6a"
      },
      "execution_count": 14,
      "outputs": [
        {
          "output_type": "execute_result",
          "data": {
            "text/plain": [
              "   item_TV  item_냉장고  item_믹서  item_선풍기  item_전자레인지  item_컴퓨터\n",
              "0        1         0        0         0           0         0\n",
              "1        0         1        0         0           0         0\n",
              "2        0         0        0         0           1         0\n",
              "3        0         0        0         0           0         1\n",
              "4        0         0        0         1           0         0\n",
              "5        0         0        0         1           0         0\n",
              "6        0         0        1         0           0         0\n",
              "7        0         0        1         0           0         0"
            ],
            "text/html": [
              "\n",
              "  <div id=\"df-7f8311ab-0852-49c4-9404-a1d8e0284f20\" class=\"colab-df-container\">\n",
              "    <div>\n",
              "<style scoped>\n",
              "    .dataframe tbody tr th:only-of-type {\n",
              "        vertical-align: middle;\n",
              "    }\n",
              "\n",
              "    .dataframe tbody tr th {\n",
              "        vertical-align: top;\n",
              "    }\n",
              "\n",
              "    .dataframe thead th {\n",
              "        text-align: right;\n",
              "    }\n",
              "</style>\n",
              "<table border=\"1\" class=\"dataframe\">\n",
              "  <thead>\n",
              "    <tr style=\"text-align: right;\">\n",
              "      <th></th>\n",
              "      <th>item_TV</th>\n",
              "      <th>item_냉장고</th>\n",
              "      <th>item_믹서</th>\n",
              "      <th>item_선풍기</th>\n",
              "      <th>item_전자레인지</th>\n",
              "      <th>item_컴퓨터</th>\n",
              "    </tr>\n",
              "  </thead>\n",
              "  <tbody>\n",
              "    <tr>\n",
              "      <th>0</th>\n",
              "      <td>1</td>\n",
              "      <td>0</td>\n",
              "      <td>0</td>\n",
              "      <td>0</td>\n",
              "      <td>0</td>\n",
              "      <td>0</td>\n",
              "    </tr>\n",
              "    <tr>\n",
              "      <th>1</th>\n",
              "      <td>0</td>\n",
              "      <td>1</td>\n",
              "      <td>0</td>\n",
              "      <td>0</td>\n",
              "      <td>0</td>\n",
              "      <td>0</td>\n",
              "    </tr>\n",
              "    <tr>\n",
              "      <th>2</th>\n",
              "      <td>0</td>\n",
              "      <td>0</td>\n",
              "      <td>0</td>\n",
              "      <td>0</td>\n",
              "      <td>1</td>\n",
              "      <td>0</td>\n",
              "    </tr>\n",
              "    <tr>\n",
              "      <th>3</th>\n",
              "      <td>0</td>\n",
              "      <td>0</td>\n",
              "      <td>0</td>\n",
              "      <td>0</td>\n",
              "      <td>0</td>\n",
              "      <td>1</td>\n",
              "    </tr>\n",
              "    <tr>\n",
              "      <th>4</th>\n",
              "      <td>0</td>\n",
              "      <td>0</td>\n",
              "      <td>0</td>\n",
              "      <td>1</td>\n",
              "      <td>0</td>\n",
              "      <td>0</td>\n",
              "    </tr>\n",
              "    <tr>\n",
              "      <th>5</th>\n",
              "      <td>0</td>\n",
              "      <td>0</td>\n",
              "      <td>0</td>\n",
              "      <td>1</td>\n",
              "      <td>0</td>\n",
              "      <td>0</td>\n",
              "    </tr>\n",
              "    <tr>\n",
              "      <th>6</th>\n",
              "      <td>0</td>\n",
              "      <td>0</td>\n",
              "      <td>1</td>\n",
              "      <td>0</td>\n",
              "      <td>0</td>\n",
              "      <td>0</td>\n",
              "    </tr>\n",
              "    <tr>\n",
              "      <th>7</th>\n",
              "      <td>0</td>\n",
              "      <td>0</td>\n",
              "      <td>1</td>\n",
              "      <td>0</td>\n",
              "      <td>0</td>\n",
              "      <td>0</td>\n",
              "    </tr>\n",
              "  </tbody>\n",
              "</table>\n",
              "</div>\n",
              "    <div class=\"colab-df-buttons\">\n",
              "\n",
              "  <div class=\"colab-df-container\">\n",
              "    <button class=\"colab-df-convert\" onclick=\"convertToInteractive('df-7f8311ab-0852-49c4-9404-a1d8e0284f20')\"\n",
              "            title=\"Convert this dataframe to an interactive table.\"\n",
              "            style=\"display:none;\">\n",
              "\n",
              "  <svg xmlns=\"http://www.w3.org/2000/svg\" height=\"24px\" viewBox=\"0 -960 960 960\">\n",
              "    <path d=\"M120-120v-720h720v720H120Zm60-500h600v-160H180v160Zm220 220h160v-160H400v160Zm0 220h160v-160H400v160ZM180-400h160v-160H180v160Zm440 0h160v-160H620v160ZM180-180h160v-160H180v160Zm440 0h160v-160H620v160Z\"/>\n",
              "  </svg>\n",
              "    </button>\n",
              "\n",
              "  <style>\n",
              "    .colab-df-container {\n",
              "      display:flex;\n",
              "      gap: 12px;\n",
              "    }\n",
              "\n",
              "    .colab-df-convert {\n",
              "      background-color: #E8F0FE;\n",
              "      border: none;\n",
              "      border-radius: 50%;\n",
              "      cursor: pointer;\n",
              "      display: none;\n",
              "      fill: #1967D2;\n",
              "      height: 32px;\n",
              "      padding: 0 0 0 0;\n",
              "      width: 32px;\n",
              "    }\n",
              "\n",
              "    .colab-df-convert:hover {\n",
              "      background-color: #E2EBFA;\n",
              "      box-shadow: 0px 1px 2px rgba(60, 64, 67, 0.3), 0px 1px 3px 1px rgba(60, 64, 67, 0.15);\n",
              "      fill: #174EA6;\n",
              "    }\n",
              "\n",
              "    .colab-df-buttons div {\n",
              "      margin-bottom: 4px;\n",
              "    }\n",
              "\n",
              "    [theme=dark] .colab-df-convert {\n",
              "      background-color: #3B4455;\n",
              "      fill: #D2E3FC;\n",
              "    }\n",
              "\n",
              "    [theme=dark] .colab-df-convert:hover {\n",
              "      background-color: #434B5C;\n",
              "      box-shadow: 0px 1px 3px 1px rgba(0, 0, 0, 0.15);\n",
              "      filter: drop-shadow(0px 1px 2px rgba(0, 0, 0, 0.3));\n",
              "      fill: #FFFFFF;\n",
              "    }\n",
              "  </style>\n",
              "\n",
              "    <script>\n",
              "      const buttonEl =\n",
              "        document.querySelector('#df-7f8311ab-0852-49c4-9404-a1d8e0284f20 button.colab-df-convert');\n",
              "      buttonEl.style.display =\n",
              "        google.colab.kernel.accessAllowed ? 'block' : 'none';\n",
              "\n",
              "      async function convertToInteractive(key) {\n",
              "        const element = document.querySelector('#df-7f8311ab-0852-49c4-9404-a1d8e0284f20');\n",
              "        const dataTable =\n",
              "          await google.colab.kernel.invokeFunction('convertToInteractive',\n",
              "                                                    [key], {});\n",
              "        if (!dataTable) return;\n",
              "\n",
              "        const docLinkHtml = 'Like what you see? Visit the ' +\n",
              "          '<a target=\"_blank\" href=https://colab.research.google.com/notebooks/data_table.ipynb>data table notebook</a>'\n",
              "          + ' to learn more about interactive tables.';\n",
              "        element.innerHTML = '';\n",
              "        dataTable['output_type'] = 'display_data';\n",
              "        await google.colab.output.renderOutput(dataTable, element);\n",
              "        const docLink = document.createElement('div');\n",
              "        docLink.innerHTML = docLinkHtml;\n",
              "        element.appendChild(docLink);\n",
              "      }\n",
              "    </script>\n",
              "  </div>\n",
              "\n",
              "\n",
              "<div id=\"df-22a73f0a-658e-4ed0-99e9-6a214e294182\">\n",
              "  <button class=\"colab-df-quickchart\" onclick=\"quickchart('df-22a73f0a-658e-4ed0-99e9-6a214e294182')\"\n",
              "            title=\"Suggest charts.\"\n",
              "            style=\"display:none;\">\n",
              "\n",
              "<svg xmlns=\"http://www.w3.org/2000/svg\" height=\"24px\"viewBox=\"0 0 24 24\"\n",
              "     width=\"24px\">\n",
              "    <g>\n",
              "        <path d=\"M19 3H5c-1.1 0-2 .9-2 2v14c0 1.1.9 2 2 2h14c1.1 0 2-.9 2-2V5c0-1.1-.9-2-2-2zM9 17H7v-7h2v7zm4 0h-2V7h2v10zm4 0h-2v-4h2v4z\"/>\n",
              "    </g>\n",
              "</svg>\n",
              "  </button>\n",
              "\n",
              "<style>\n",
              "  .colab-df-quickchart {\n",
              "      --bg-color: #E8F0FE;\n",
              "      --fill-color: #1967D2;\n",
              "      --hover-bg-color: #E2EBFA;\n",
              "      --hover-fill-color: #174EA6;\n",
              "      --disabled-fill-color: #AAA;\n",
              "      --disabled-bg-color: #DDD;\n",
              "  }\n",
              "\n",
              "  [theme=dark] .colab-df-quickchart {\n",
              "      --bg-color: #3B4455;\n",
              "      --fill-color: #D2E3FC;\n",
              "      --hover-bg-color: #434B5C;\n",
              "      --hover-fill-color: #FFFFFF;\n",
              "      --disabled-bg-color: #3B4455;\n",
              "      --disabled-fill-color: #666;\n",
              "  }\n",
              "\n",
              "  .colab-df-quickchart {\n",
              "    background-color: var(--bg-color);\n",
              "    border: none;\n",
              "    border-radius: 50%;\n",
              "    cursor: pointer;\n",
              "    display: none;\n",
              "    fill: var(--fill-color);\n",
              "    height: 32px;\n",
              "    padding: 0;\n",
              "    width: 32px;\n",
              "  }\n",
              "\n",
              "  .colab-df-quickchart:hover {\n",
              "    background-color: var(--hover-bg-color);\n",
              "    box-shadow: 0 1px 2px rgba(60, 64, 67, 0.3), 0 1px 3px 1px rgba(60, 64, 67, 0.15);\n",
              "    fill: var(--button-hover-fill-color);\n",
              "  }\n",
              "\n",
              "  .colab-df-quickchart-complete:disabled,\n",
              "  .colab-df-quickchart-complete:disabled:hover {\n",
              "    background-color: var(--disabled-bg-color);\n",
              "    fill: var(--disabled-fill-color);\n",
              "    box-shadow: none;\n",
              "  }\n",
              "\n",
              "  .colab-df-spinner {\n",
              "    border: 2px solid var(--fill-color);\n",
              "    border-color: transparent;\n",
              "    border-bottom-color: var(--fill-color);\n",
              "    animation:\n",
              "      spin 1s steps(1) infinite;\n",
              "  }\n",
              "\n",
              "  @keyframes spin {\n",
              "    0% {\n",
              "      border-color: transparent;\n",
              "      border-bottom-color: var(--fill-color);\n",
              "      border-left-color: var(--fill-color);\n",
              "    }\n",
              "    20% {\n",
              "      border-color: transparent;\n",
              "      border-left-color: var(--fill-color);\n",
              "      border-top-color: var(--fill-color);\n",
              "    }\n",
              "    30% {\n",
              "      border-color: transparent;\n",
              "      border-left-color: var(--fill-color);\n",
              "      border-top-color: var(--fill-color);\n",
              "      border-right-color: var(--fill-color);\n",
              "    }\n",
              "    40% {\n",
              "      border-color: transparent;\n",
              "      border-right-color: var(--fill-color);\n",
              "      border-top-color: var(--fill-color);\n",
              "    }\n",
              "    60% {\n",
              "      border-color: transparent;\n",
              "      border-right-color: var(--fill-color);\n",
              "    }\n",
              "    80% {\n",
              "      border-color: transparent;\n",
              "      border-right-color: var(--fill-color);\n",
              "      border-bottom-color: var(--fill-color);\n",
              "    }\n",
              "    90% {\n",
              "      border-color: transparent;\n",
              "      border-bottom-color: var(--fill-color);\n",
              "    }\n",
              "  }\n",
              "</style>\n",
              "\n",
              "  <script>\n",
              "    async function quickchart(key) {\n",
              "      const quickchartButtonEl =\n",
              "        document.querySelector('#' + key + ' button');\n",
              "      quickchartButtonEl.disabled = true;  // To prevent multiple clicks.\n",
              "      quickchartButtonEl.classList.add('colab-df-spinner');\n",
              "      try {\n",
              "        const charts = await google.colab.kernel.invokeFunction(\n",
              "            'suggestCharts', [key], {});\n",
              "      } catch (error) {\n",
              "        console.error('Error during call to suggestCharts:', error);\n",
              "      }\n",
              "      quickchartButtonEl.classList.remove('colab-df-spinner');\n",
              "      quickchartButtonEl.classList.add('colab-df-quickchart-complete');\n",
              "    }\n",
              "    (() => {\n",
              "      let quickchartButtonEl =\n",
              "        document.querySelector('#df-22a73f0a-658e-4ed0-99e9-6a214e294182 button');\n",
              "      quickchartButtonEl.style.display =\n",
              "        google.colab.kernel.accessAllowed ? 'block' : 'none';\n",
              "    })();\n",
              "  </script>\n",
              "</div>\n",
              "    </div>\n",
              "  </div>\n"
            ]
          },
          "metadata": {},
          "execution_count": 14
        }
      ]
    },
    {
      "cell_type": "code",
      "source": [],
      "metadata": {
        "id": "bW4DU1uprxP2"
      },
      "execution_count": 14,
      "outputs": []
    },
    {
      "cell_type": "markdown",
      "source": [
        "피처 스케일링과 정규화\n",
        "> 표준화: 데이터의 피러 각각이 평균이0, 분산이 1 인 가우시안 정규 분포를 가진 값으로 변환하는 것 의미-> 개별 데이터의 크기를 모두 똑같은 단위로 변경하는\n",
        "> StandardScaler: 서포트 벡터 머신, 선형회귀, 로지스틱 회귀는 데이터가 가우시안 분포를 가지고 있다고 가정되고 구현-> 사전에 표준화를 적용하는것\n"
      ],
      "metadata": {
        "id": "4AJgKYhPr4Xa"
      }
    },
    {
      "cell_type": "code",
      "source": [
        "from sklearn.datasets import load_iris\n",
        "import pandas as pd\n",
        "#붓꽃 데이터 세트를 로딩하고 dataframe 으로 변환한다\n",
        "\n",
        "iris=load_iris()\n",
        "iris_data= iris.data\n",
        "iris_df= pd.DataFrame(data=iris_data,columns=iris.feature_names)\n",
        "\n",
        "print('feature 들의 평균 값')\n",
        "print(iris_df.mean())\n",
        "print('\\feature들의 분산 값')\n",
        "print(iris_df.var())\n"
      ],
      "metadata": {
        "colab": {
          "base_uri": "https://localhost:8080/"
        },
        "id": "a4y5059Dzyl0",
        "outputId": "1ab73508-a783-45e8-9f0d-b967da363060"
      },
      "execution_count": 19,
      "outputs": [
        {
          "output_type": "stream",
          "name": "stdout",
          "text": [
            "feature 들의 평균 값\n",
            "sepal length (cm)    5.843333\n",
            "sepal width (cm)     3.057333\n",
            "petal length (cm)    3.758000\n",
            "petal width (cm)     1.199333\n",
            "dtype: float64\n",
            "\feature들의 분산 값\n",
            "sepal length (cm)    0.685694\n",
            "sepal width (cm)     0.189979\n",
            "petal length (cm)    3.116278\n",
            "petal width (cm)     0.581006\n",
            "dtype: float64\n"
          ]
        }
      ]
    },
    {
      "cell_type": "code",
      "source": [
        "# standardscaler를 이용해 각 피처를 한번에 표준화해 변환한다.\n",
        "# transform()을 호출할떼 스케일 변환된 데이터 세트가 넘파이의 ndarray이므로 이를 dataframe으로 변환해 평군값과 분산 값을 다시 확인해보자\n",
        "\n",
        "from sklearn.preprocessing import StandardScaler\n",
        "\n",
        "#StandardScaler 객체 생성\n",
        "scaler=StandardScaler()\n",
        "#StandardScaler로 데이터 세트 변환.fit()과 transform() 호출\n",
        "scaler.fit(iris_df)\n",
        "iris_scaled=scaler.transform(iris_df)\n",
        "\n",
        "#transform() 시 스케일 변환된 데이터 세트가 numpy ndarray로 반환돼 이를 dataframe으로 변환\n",
        "iris_df_scaled= pd.DataFrame(data=iris_scaled,columns=iris.feature_names)\n",
        "print('feature 들의 평균 값')\n",
        "print(iris_df_scaled.mean())\n",
        "print('feature 들의 분산 값')\n",
        "print(iris_df_scaled.var())"
      ],
      "metadata": {
        "colab": {
          "base_uri": "https://localhost:8080/"
        },
        "id": "XkvNrC2j0gth",
        "outputId": "b97ad904-675c-4d7d-fded-80e06e66da08"
      },
      "execution_count": 20,
      "outputs": [
        {
          "output_type": "stream",
          "name": "stdout",
          "text": [
            "feature 들의 평균 값\n",
            "sepal length (cm)   -1.690315e-15\n",
            "sepal width (cm)    -1.842970e-15\n",
            "petal length (cm)   -1.698641e-15\n",
            "petal width (cm)    -1.409243e-15\n",
            "dtype: float64\n",
            "feature 들의 분산 값\n",
            "sepal length (cm)    1.006711\n",
            "sepal width (cm)     1.006711\n",
            "petal length (cm)    1.006711\n",
            "petal width (cm)     1.006711\n",
            "dtype: float64\n"
          ]
        }
      ]
    },
    {
      "cell_type": "markdown",
      "source": [
        "MinMaxSclaer\n",
        "> 데이터값을 0과 1사이의 범위 값으로 변환\n"
      ],
      "metadata": {
        "id": "PLBUt-3T43mr"
      }
    },
    {
      "cell_type": "code",
      "source": [
        "from sklearn.preprocessing import MinMaxScaler\n",
        "\n",
        "#MinMaxScaler 객체 생성\n",
        "scaler=MinMaxScaler()\n",
        "#StandardScaler로 데이터 세트 변환.fit()과 transform() 호출\n",
        "scaler.fit(iris_df)\n",
        "iris_scaled=scaler.transform(iris_df)\n",
        "\n",
        "#transform() 시 스케일 변환된 데이터 세트가 Numpy ndarray로 반환돼 이를 dataframe으로 변환\n",
        "iris_df_scaled= pd.DataFrame(data=iris_scaled,columns=iris.feature_names)\n",
        "print('feature 들의 최솟값')\n",
        "print(iris_df_scaled.min())\n",
        "print('feature 들의 최댓값')\n",
        "print(iris_df_scaled.max())"
      ],
      "metadata": {
        "colab": {
          "base_uri": "https://localhost:8080/"
        },
        "id": "lUQwNlWp32Ws",
        "outputId": "4e153c0c-e99e-428d-b07b-5e1867482460"
      },
      "execution_count": 21,
      "outputs": [
        {
          "output_type": "stream",
          "name": "stdout",
          "text": [
            "feature 들의 최솟값\n",
            "sepal length (cm)    0.0\n",
            "sepal width (cm)     0.0\n",
            "petal length (cm)    0.0\n",
            "petal width (cm)     0.0\n",
            "dtype: float64\n",
            "feature 들의 최댓값\n",
            "sepal length (cm)    1.0\n",
            "sepal width (cm)     1.0\n",
            "petal length (cm)    1.0\n",
            "petal width (cm)     1.0\n",
            "dtype: float64\n"
          ]
        }
      ]
    },
    {
      "cell_type": "markdown",
      "source": [
        "테스트 데이터에 fit()을 호출하지 않고 학습 데이터로 fit()을 수행한 MinMaxScaler객체의 tranform()을 이용해 데이터를 변환한다.\n",
        ">결과물이 테스트 데이터가 모두 동일하게 1/10로 변환되었음을 알 수 있다\n"
      ],
      "metadata": {
        "id": "KRACK0fr71k7"
      }
    },
    {
      "cell_type": "code",
      "source": [
        "train_array= np.arange(0,11).reshape(-1,1)\n",
        "test_array=np.arange(0,6).reshape(-1,1)\n",
        "\n",
        "scaler=MinMaxScaler()\n",
        "scaler.fit(train_array)\n",
        "train_scaled=scaler.transform(train_array)\n",
        "print('원본 train_array 데이터:', np.round(train_array.reshape(-1),2))\n",
        "print('Scale된 train_array 데이터:',np.round(train_scaled.reshape(-1),2))\n",
        "\n",
        "#test_array에 scale 변환을 할떄는 반드시 fit()을 호출하지 않고 transform()만으로만 변환해야함\n",
        "test_scaled = scaler.transform(test_array)\n",
        "print('원본 train_array 데이터:', np.round(train_array.reshape(-1),2))\n",
        "print('Scale된 train_array 데이터:',np.round(train_scaled.reshape(-1),2))"
      ],
      "metadata": {
        "colab": {
          "base_uri": "https://localhost:8080/"
        },
        "id": "I2ndpwN25c0w",
        "outputId": "5f9de372-e23d-4bed-bb6a-7d701c410f08"
      },
      "execution_count": 23,
      "outputs": [
        {
          "output_type": "stream",
          "name": "stdout",
          "text": [
            "원본 train_array 데이터: [ 0  1  2  3  4  5  6  7  8  9 10]\n",
            "Scale된 train_array 데이터: [0.  0.1 0.2 0.3 0.4 0.5 0.6 0.7 0.8 0.9 1. ]\n",
            "원본 train_array 데이터: [ 0  1  2  3  4  5  6  7  8  9 10]\n",
            "Scale된 train_array 데이터: [0.  0.1 0.2 0.3 0.4 0.5 0.6 0.7 0.8 0.9 1. ]\n"
          ]
        }
      ]
    },
    {
      "cell_type": "markdown",
      "source": [
        "학습데이터와 테스트 데이터의 fit(), transform()을 이용해 스케일링 변환시 유의할점\n",
        "> 가능하다면 전체 데이터의 스케일링 변환을 적용한 뒤 학습과 테스트 데이터로 분리\n",
        "> 학습 데이터로 이미 fit()된 scaler 객체를 이용해 transform()으로 변"
      ],
      "metadata": {
        "id": "Hy805KabODvX"
      }
    },
    {
      "cell_type": "code",
      "source": [],
      "metadata": {
        "id": "lLZP18N59M9U"
      },
      "execution_count": null,
      "outputs": []
    }
  ]
}