{
  "nbformat": 4,
  "nbformat_minor": 0,
  "metadata": {
    "colab": {
      "provenance": []
    },
    "kernelspec": {
      "name": "python3",
      "display_name": "Python 3"
    },
    "language_info": {
      "name": "python"
    }
  },
  "cells": [
    {
      "cell_type": "markdown",
      "source": [
        "**머신러닝**\n",
        "> 지도학습, 비지도 학습, 강화학습으로 분류\n",
        ">>지도학습은 분류와 회귀로 나누어짐\n",
        "> 사이킷런의 머신러닝 알고리즘에 입력하기 위한 데이터의 추출,가공,변형은 넘파이와 판다스를 주로 이용"
      ],
      "metadata": {
        "id": "T5iQixYrR1LP"
      }
    },
    {
      "cell_type": "markdown",
      "source": [
        "**넘파이**\n",
        ">넘파이의 특징:\n",
        ">> numpy의 기본 데이터 타입은 ndarray 이고, 이를 이용해 다차원배열 생성,수행가능"
      ],
      "metadata": {
        "id": "6lovwpGqJBfv"
      }
    },
    {
      "cell_type": "code",
      "execution_count": 1,
      "metadata": {
        "id": "WsXL9P-iI5Wo"
      },
      "outputs": [],
      "source": [
        "import numpy as np # numpy 모듈을 import"
      ]
    },
    {
      "cell_type": "code",
      "source": [
        "array1= np.array([1,2,3]) # array() 함수는 인자를 입력받아 ndarray로 변환\n",
        "print ('array1 type:', type(array1))\n",
        "print ('array1 array 형태:', array1.shape) #shape 변수는 ndarry 의 크기를 나타냄"
      ],
      "metadata": {
        "colab": {
          "base_uri": "https://localhost:8080/"
        },
        "id": "RxDW7p-cK_w4",
        "outputId": "e63a1692-08d3-4441-f43c-526f8b5781f4"
      },
      "execution_count": 2,
      "outputs": [
        {
          "output_type": "stream",
          "name": "stdout",
          "text": [
            "array1 type: <class 'numpy.ndarray'>\n",
            "array1 array 형태: (3,)\n"
          ]
        }
      ]
    },
    {
      "cell_type": "code",
      "source": [
        "array2= np.array([[1,2,3],\n",
        "                 [2,3,4]])\n",
        "print ('array2 type:', type(array2))\n",
        "print ('array2 array 형태:', array2.shape)"
      ],
      "metadata": {
        "colab": {
          "base_uri": "https://localhost:8080/"
        },
        "id": "fxgJxRzML7rd",
        "outputId": "850dad80-ef18-41a3-cf9b-e214d941c95c"
      },
      "execution_count": 3,
      "outputs": [
        {
          "output_type": "stream",
          "name": "stdout",
          "text": [
            "array2 type: <class 'numpy.ndarray'>\n",
            "array2 array 형태: (2, 3)\n"
          ]
        }
      ]
    },
    {
      "cell_type": "code",
      "source": [
        "array3= np.array([[1,2,3]])\n",
        "print ('array3 type:', type(array3))\n",
        "print ('array3 array 형태:', array3.shape)"
      ],
      "metadata": {
        "colab": {
          "base_uri": "https://localhost:8080/"
        },
        "id": "w0wqlWkLMMST",
        "outputId": "c8184383-0376-47ad-fb00-94d0216bc02d"
      },
      "execution_count": 4,
      "outputs": [
        {
          "output_type": "stream",
          "name": "stdout",
          "text": [
            "array3 type: <class 'numpy.ndarray'>\n",
            "array3 array 형태: (1, 3)\n"
          ]
        }
      ]
    },
    {
      "cell_type": "markdown",
      "source": [
        "ndarray.shape : ndarray의 차원과 크기를 tuple로 나타낸다.\n",
        ">여기서 array1 과 array3은 동일한 데이터건수를 가지지만, shape는 (3,0) 과 (1,3) 으로 다른것을 확인 가능하다.\n",
        ">>array1: 1차원 array로 3개 데이터를 가진다는 뜻 (3,0)\n",
        ">>array3: 2차원 데이터로 1개row, 3개 column 을 가진다는 뜻 (1,3)\n",
        "\n",
        "-> 각 array의 차원을 ndarray.ndim을 이용해 확인가능"
      ],
      "metadata": {
        "id": "qHc7iWZZJAJQ"
      }
    },
    {
      "cell_type": "code",
      "source": [
        "print('array1:{:0}차원, array2:{:1}차원, array3:{:2}차원'.format(array1.ndim, array2.ndim, array3.ndim))"
      ],
      "metadata": {
        "colab": {
          "base_uri": "https://localhost:8080/"
        },
        "id": "PEOmVe4TNBmQ",
        "outputId": "a34b22af-fa20-4252-e6d5-c57e3174cea7"
      },
      "execution_count": 5,
      "outputs": [
        {
          "output_type": "stream",
          "name": "stdout",
          "text": [
            "array1:1차원, array2:2차원, array3: 2차원\n"
          ]
        }
      ]
    },
    {
      "cell_type": "code",
      "source": [
        "list1= [1,2,3]\n",
        "print(type(list1))\n",
        "array1=np.array(list1)\n",
        "print(type(array1))\n",
        "print(array1,array1.dtype) #list1의 자료형은 integer인 숫자를 가지고 있음"
      ],
      "metadata": {
        "colab": {
          "base_uri": "https://localhost:8080/"
        },
        "id": "5bRpBdigWJtf",
        "outputId": "0601cc08-ad87-48b7-c64a-89e6e4f6b1c1"
      },
      "execution_count": 6,
      "outputs": [
        {
          "output_type": "stream",
          "name": "stdout",
          "text": [
            "<class 'list'>\n",
            "<class 'numpy.ndarray'>\n",
            "[1 2 3] int64\n"
          ]
        }
      ]
    },
    {
      "cell_type": "code",
      "source": [
        "list2=[1,2,'test']  #int, string 이섞임\n",
        "array2=np.array(list2)\n",
        "print(array2,array2.dtype) # int와 string이 섞인 list2->ndarray로 변환하면 숫자형 1,2 모두 문자형으로 변환\n",
        "\n",
        "list3=[1,2,3.0] # int와 float가 섞임\n",
        "array3=np.array(list3)\n",
        "print(array3,array3.dtype) #동일하게 list3이 int1,2가 float 1,2로 변함"
      ],
      "metadata": {
        "colab": {
          "base_uri": "https://localhost:8080/"
        },
        "id": "qs5cn2YFWq5H",
        "outputId": "33fb05ca-35e1-4a26-a280-62078ec29c82"
      },
      "execution_count": 7,
      "outputs": [
        {
          "output_type": "stream",
          "name": "stdout",
          "text": [
            "['1' '2' 'test'] <U21\n",
            "[1. 2. 3.] float64\n"
          ]
        }
      ]
    },
    {
      "cell_type": "code",
      "source": [
        "array_int = np.array([1,2,3])\n",
        "array_float = array_int.astype('float64') #int 32-> float64로 변경\n",
        "print(array_float,array_float.dtype)\n",
        "\n",
        "array_int1 = array_float.astype('int32') #다시 float64 -> int32 로 변경\n",
        "\n",
        "\n",
        "\n",
        "print(array_int1,array_int1.dtype)\n",
        "\n",
        "array_float1 = np.array([1.1,2.1,3.1])  #float -> int로 변경하면 소숫점 없어진다!\n",
        "array_int2 = array_float1.astype('int32')\n",
        "print(array_int2,array_int2.dtype)"
      ],
      "metadata": {
        "colab": {
          "base_uri": "https://localhost:8080/"
        },
        "id": "FIoVTrocWmy7",
        "outputId": "5dc5aa9c-f3cd-459c-c529-3a58065a470e"
      },
      "execution_count": 8,
      "outputs": [
        {
          "output_type": "stream",
          "name": "stdout",
          "text": [
            "[1. 2. 3.] float64\n",
            "[1 2 3] int32\n",
            "[1 2 3] int32\n"
          ]
        }
      ]
    },
    {
      "cell_type": "code",
      "source": [
        "sequence_array= np.arange(10) # np.arange -> array를 range()로 표현\n",
        "print(sequence_array)\n",
        "print(sequence_array.dtype,sequence_array.shape)"
      ],
      "metadata": {
        "colab": {
          "base_uri": "https://localhost:8080/"
        },
        "id": "6yBV97SXlrDX",
        "outputId": "5db20c04-c9b1-4a1c-96bd-132a138f5125"
      },
      "execution_count": 9,
      "outputs": [
        {
          "output_type": "stream",
          "name": "stdout",
          "text": [
            "[0 1 2 3 4 5 6 7 8 9]\n",
            "int64 (10,)\n"
          ]
        }
      ]
    },
    {
      "cell_type": "code",
      "source": [
        "zero_array = np.zeros((3,2),dtype='int32')  # zero() -> 함수 인자로 튜플형태의 shape 값 입력하면 모든 값이 0인 shape의 ndarray 생성\n",
        "print(zero_array)\n",
        "print(zero_array.dtype,zero_array.shape)\n",
        "\n",
        "one_array = np.ones((3,2))  # ones() -> zero()에서 0이 아닌 1\n",
        "print(one_array)\n",
        "print(one_array.dtype,one_array.shape)"
      ],
      "metadata": {
        "colab": {
          "base_uri": "https://localhost:8080/"
        },
        "id": "s6wGzpgAmPJy",
        "outputId": "053e296f-c0d1-48df-8792-036607bffb70"
      },
      "execution_count": 10,
      "outputs": [
        {
          "output_type": "stream",
          "name": "stdout",
          "text": [
            "[[0 0]\n",
            " [0 0]\n",
            " [0 0]]\n",
            "int32 (3, 2)\n",
            "[[1. 1.]\n",
            " [1. 1.]\n",
            " [1. 1.]]\n",
            "float64 (3, 2)\n"
          ]
        }
      ]
    },
    {
      "cell_type": "markdown",
      "source": [
        "reshape() -> ndarray의 차원과 크기 변경"
      ],
      "metadata": {
        "id": "YXDhXo1woaKD"
      }
    },
    {
      "cell_type": "code",
      "source": [
        "array1 =np.arange(10)\n",
        "print('array1:',array1)\n",
        "\n",
        "array2 = array1.reshape(2,5)\n",
        "print('array2:',array2)\n",
        "\n",
        "array3 = array1.reshape(5,2)\n",
        "print('array3:',array3)"
      ],
      "metadata": {
        "colab": {
          "base_uri": "https://localhost:8080/"
        },
        "id": "WITdPBcvnUgT",
        "outputId": "c8e3d1bb-2e67-43bc-d7b8-0bc4fdc7d9f5"
      },
      "execution_count": 11,
      "outputs": [
        {
          "output_type": "stream",
          "name": "stdout",
          "text": [
            "array1: [0 1 2 3 4 5 6 7 8 9]\n",
            "array2: [[0 1 2 3 4]\n",
            " [5 6 7 8 9]]\n",
            "array3: [[0 1]\n",
            " [2 3]\n",
            " [4 5]\n",
            " [6 7]\n",
            " [8 9]]\n"
          ]
        }
      ]
    },
    {
      "cell_type": "markdown",
      "source": [
        "array1.reshape(4,3) 같은 경우는 error가 발생 (변경이 안되는 사이즈)"
      ],
      "metadata": {
        "id": "aAKuZXo1opRR"
      }
    },
    {
      "cell_type": "code",
      "source": [
        "array1 =np.arange(10)\n",
        "print(array1)\n",
        "\n",
        "array2 = array1.reshape(-1,5)  # row= -1, column= 5 ; array1와 호환될수 있는 column이 5개인 2차원ndarray로 변환해라 -> 그래서 2x5 shape\n",
        "print('array2 shape:', array2.shape)\n",
        "\n",
        "array3 = array1.reshape(5,-1) # array1와 호환될수 있는 row가 5개인 2차원ndarray로 변환해라 -> 그래서 5x2 shape\n",
        "print('array3 shape:', array3.shape)\n",
        "\n",
        "#reshape (-1,4)는 error발생!"
      ],
      "metadata": {
        "colab": {
          "base_uri": "https://localhost:8080/"
        },
        "id": "lq4wCMGJoy7G",
        "outputId": "fed8f9b6-3a26-45aa-93ec-8ad0bf8c3064"
      },
      "execution_count": 12,
      "outputs": [
        {
          "output_type": "stream",
          "name": "stdout",
          "text": [
            "[0 1 2 3 4 5 6 7 8 9]\n",
            "array2 shape: (2, 5)\n",
            "array3 shape: (5, 2)\n"
          ]
        }
      ]
    },
    {
      "cell_type": "code",
      "source": [
        "array1 = np.arange(8)\n",
        "array3d= array1.reshape((2,2,2))\n",
        "print('array3d:',array3d.tolist())\n",
        "\n",
        "#3차원 ndarray를 2차원 ndarray로 변환\n",
        "array5 = array3d.reshape(-1,1)\n",
        "print('array5:',array5.tolist())\n",
        "print('array5 shape:',array5.shape)\n",
        "\n",
        "#1차원 ndarray를 2차원 ndarray로 변환\n",
        "array6 = array1.reshape(-1,1)\n",
        "print('array6:',array6.tolist())\n",
        "print('array6 shape:',array6.shape)\n"
      ],
      "metadata": {
        "colab": {
          "base_uri": "https://localhost:8080/"
        },
        "id": "ycgHiahaxfdV",
        "outputId": "93ef6354-ec54-42eb-da3e-b04904e40903"
      },
      "execution_count": 13,
      "outputs": [
        {
          "output_type": "stream",
          "name": "stdout",
          "text": [
            "array3d: [[[0, 1], [2, 3]], [[4, 5], [6, 7]]]\n",
            "array5: [[0], [1], [2], [3], [4], [5], [6], [7]]\n",
            "array5 shape: (8, 1)\n",
            "array6: [[0], [1], [2], [3], [4], [5], [6], [7]]\n",
            "array6 shape: (8, 1)\n"
          ]
        }
      ]
    },
    {
      "cell_type": "markdown",
      "source": [
        "reshape(-1,1) -> 원본 ndarray의 형태과 관계없이 반드시 column이 1개인 2차원으로 변환\n",
        "tolist() -> ndarray를 list 자료형으로 변환 (보기 용이함)"
      ],
      "metadata": {
        "id": "yPmdrNh7ylYF"
      }
    },
    {
      "cell_type": "markdown",
      "source": [
        "**Indexing**"
      ],
      "metadata": {
        "id": "bnMkGe0OzM93"
      }
    },
    {
      "cell_type": "markdown",
      "source": [
        "indexing : numpy 에서 ndarray 내의 일부 데이터세트 또는 특정 데이터만 선택할 수 있게함\n",
        "  1) 특정데이터 추출 : 원하는 위치의 인덱스 값 지정\n",
        "  2) slicing : 연속된 인덱스상의 ndarray 출력하는 방법 ':' 기호 사이 시작,종료 인덱스를 표시하면 시작인덱스->종료인덱스-1 위치의 데이터의 ndarray 반환\n",
        "  3) fancy indexing : 일정한 인덱싱 집합을 list, ndarray형태로 지정해 위치의 데이터 반환\n",
        "  4) boolean indexing:  조건에 해당하는 여부인 true/false 값 인덱싱을 기반, true에 해당하는 위치에 있는 데이터의 ndarray 반환\n",
        "\n",
        "  * 인덱스 -1은 맨뒤의 데이터값을 의미, -2는 맨뒤에서 두번째값 의미"
      ],
      "metadata": {
        "id": "KkVhdumezalc"
      }
    },
    {
      "cell_type": "code",
      "source": [
        "#단일값 추출\n",
        "# 1 ~9까지 1차원\n",
        "array1= np.arange(start=1,stop=10)\n",
        "print('array1:',array1)\n",
        "#index는 0부터 시작, array1[2]-> 3번째 index 위치의 데이터값 의미\n",
        "value=array1[2]\n",
        "print('value:',value)\n",
        "print(type(value))\n",
        "\n",
        "# 인덱스 -1은 맨뒤의 데이터값을 의미, -2는 맨뒤에서 두번째값 의미\n",
        "print(array1[-1], array1[-2])"
      ],
      "metadata": {
        "colab": {
          "base_uri": "https://localhost:8080/"
        },
        "id": "onBZKcUcylLz",
        "outputId": "a6d9e664-456c-4ff7-9234-eccff2829a01"
      },
      "execution_count": 15,
      "outputs": [
        {
          "output_type": "stream",
          "name": "stdout",
          "text": [
            "array1: [1 2 3 4 5 6 7 8 9]\n",
            "value: 3\n",
            "<class 'numpy.int64'>\n",
            "9 8\n"
          ]
        }
      ]
    },
    {
      "cell_type": "code",
      "source": [
        "# 단일 인덱스를 이용해 ndarray 내의 데이터값 수정\n",
        "array1[0] =9\n",
        "array1[8]=0\n",
        "print('array1:',array1)"
      ],
      "metadata": {
        "colab": {
          "base_uri": "https://localhost:8080/"
        },
        "id": "8znOFkbo1E42",
        "outputId": "5b027279-d1bb-4d90-99a9-74dc069ecce9"
      },
      "execution_count": 16,
      "outputs": [
        {
          "output_type": "stream",
          "name": "stdout",
          "text": [
            "array1: [9 2 3 4 5 6 7 8 0]\n"
          ]
        }
      ]
    },
    {
      "cell_type": "code",
      "source": [
        "array1d= np.arange(start=1, stop=10)\n",
        "array2d= array1d.reshape(3,3) # 3x3\n",
        "print(array2d)\n",
        "\n",
        "print('(row=0,col=0) index 가리키는 값:', array2d[0,0])\n",
        "print('(row=0,col=1) index 가리키는 값:', array2d[0,1])\n",
        "print('(row=1,col=0) index 가리키는 값:', array2d[1,0])\n",
        "print('(row=2,col=2) index 가리키는 값:', array2d[2,2])"
      ],
      "metadata": {
        "colab": {
          "base_uri": "https://localhost:8080/"
        },
        "id": "qo0MMFVMxQqG",
        "outputId": "7b0709fa-d162-4527-9a6a-2fd1fa16a1b7"
      },
      "execution_count": 17,
      "outputs": [
        {
          "output_type": "stream",
          "name": "stdout",
          "text": [
            "[[1 2 3]\n",
            " [4 5 6]\n",
            " [7 8 9]]\n",
            "(row=0,col=0) index 가리키는 값: 1\n",
            "(row=0,col=1) index 가리키는 값: 2\n",
            "(row=1,col=0) index 가리키는 값: 4\n",
            "(row=2,col=2) index 가리키는 값: 9\n"
          ]
        }
      ]
    },
    {
      "cell_type": "markdown",
      "source": [
        "axis 0 :row 방향 축\n",
        "axis 1 : column 방향 축"
      ],
      "metadata": {
        "id": "rS91_Fdg3GuZ"
      }
    },
    {
      "cell_type": "code",
      "source": [
        "#slicing\n",
        "array1= np.arange(start=1, stop=10)\n",
        "array3=array1[0:3]\n",
        "print(array3)\n",
        "print(type(array3))\n",
        "\n",
        "#slicing 규칙\n",
        "# 1) : 기호앞에 시작인덱스를 생략하면 자동으로 맨처음인덱스인 0으로 간주\n",
        "# 2) : 기호 뒤에 종료인텍스 생략하면 자동으로 맨 마지막 인덱스로 간주\n",
        "# 3) : 기호 앞/뒤에 시작/종료 인덱스를 생락하면 자동으로 맨처음/마지막 인덱스로 간주"
      ],
      "metadata": {
        "colab": {
          "base_uri": "https://localhost:8080/"
        },
        "id": "z9FSpUlV26ru",
        "outputId": "03330aab-c357-43ce-a1be-83b3598313de"
      },
      "execution_count": 18,
      "outputs": [
        {
          "output_type": "stream",
          "name": "stdout",
          "text": [
            "[1 2 3]\n",
            "<class 'numpy.ndarray'>\n"
          ]
        }
      ]
    },
    {
      "cell_type": "code",
      "source": [
        "array1= np.arange(start=1, stop=10)\n",
        "array4=array1[:3]\n",
        "print(array4)\n",
        "\n",
        "array5=array1[:3]\n",
        "print(array5)\n",
        "\n",
        "array6=array1[:]\n",
        "print(array6)"
      ],
      "metadata": {
        "colab": {
          "base_uri": "https://localhost:8080/"
        },
        "id": "9WbVeJId3rFn",
        "outputId": "514d07bf-d488-420d-cc9e-5dee10c23e25"
      },
      "execution_count": 19,
      "outputs": [
        {
          "output_type": "stream",
          "name": "stdout",
          "text": [
            "[1 2 3]\n",
            "[1 2 3]\n",
            "[1 2 3 4 5 6 7 8 9]\n"
          ]
        }
      ]
    },
    {
      "cell_type": "code",
      "source": [
        "array1d= np.arange(start=1, stop=10)\n",
        "array2d= array1d.reshape(3,3) # 3x3\n",
        "print(array2d)\n",
        "\n",
        "print('array2d[0:2,0:2]:', array2d[0:2,0:2])\n",
        "print('array2d[1:3,0:3]:', array2d[1:3,0:3])\n",
        "print('array2d[1:3,:]:', array2d[1:3,:])\n",
        "print('array2d[:,:]:', array2d[:,:])\n",
        "print('array2d[:2,0:]:', array2d[:2,0])"
      ],
      "metadata": {
        "colab": {
          "base_uri": "https://localhost:8080/"
        },
        "id": "jUPTIgX43Vik",
        "outputId": "cb50f862-efe8-495e-9e20-b3ca36aef70d"
      },
      "execution_count": 20,
      "outputs": [
        {
          "output_type": "stream",
          "name": "stdout",
          "text": [
            "[[1 2 3]\n",
            " [4 5 6]\n",
            " [7 8 9]]\n",
            "array2d[0:2,0:2]: [[1 2]\n",
            " [4 5]]\n",
            "array2d[1:3,0:3]: [[4 5 6]\n",
            " [7 8 9]]\n",
            "array2d[1:3,:]: [[4 5 6]\n",
            " [7 8 9]]\n",
            "array2d[:,:]: [[1 2 3]\n",
            " [4 5 6]\n",
            " [7 8 9]]\n",
            "array2d[:2,0:]: [1 4]\n"
          ]
        }
      ]
    },
    {
      "cell_type": "code",
      "source": [
        "print(array2d[0])\n",
        "print(array2d[1])\n",
        "print('array2d[0] shape:',array2d[0].shape, 'array2d[1] shape:', array2d[1].shape)"
      ],
      "metadata": {
        "colab": {
          "base_uri": "https://localhost:8080/"
        },
        "id": "0MbhToQ05SC9",
        "outputId": "efad2422-66b7-48cf-ee84-16c3c7cf3dc0"
      },
      "execution_count": 21,
      "outputs": [
        {
          "output_type": "stream",
          "name": "stdout",
          "text": [
            "[1 2 3]\n",
            "[4 5 6]\n",
            "array2d[0] shape: (3,) array2d[1] shape: (3,)\n"
          ]
        }
      ]
    },
    {
      "cell_type": "code",
      "source": [
        "# fancy indexing\n",
        "array1d = np.arange(start=1,stop=10)\n",
        "array2d = array1d.reshape(3,3)\n",
        "\n",
        "array3= array2d[[0,1],2]   # axis0 에는 fancyindexing ,axis1에는 단일값인덱싱\n",
        "print('array2d[[0,1],2]->',array3.tolist())\n",
        "\n",
        "array4= array2d[[0,1],0:2]\n",
        "print('array2d[[0,1],0:2]->', array4.tolist())\n",
        "\n",
        "array5 = array2d[[0,1]]\n",
        "print('array2d[[0,1]]->', array5.tolist())\n",
        "\n"
      ],
      "metadata": {
        "colab": {
          "base_uri": "https://localhost:8080/"
        },
        "id": "_fh8IIYY5plw",
        "outputId": "f37c181c-204d-4e75-fc62-cf5bf1bc68d6"
      },
      "execution_count": 23,
      "outputs": [
        {
          "output_type": "stream",
          "name": "stdout",
          "text": [
            "array2d[[0,1],2]-> [3, 6]\n",
            "array2d[[0,1],0:2]-> [[1, 2], [4, 5]]\n",
            "array2d[[0,1]]-> [[1, 2, 3], [4, 5, 6]]\n"
          ]
        }
      ]
    },
    {
      "cell_type": "code",
      "source": [
        "#boolean indexing : 조건 필터링과 검색을 동시에 할 수 있음\n",
        "array1d= np.arange(start=1, stop=10)\n",
        "#[] 안에 array1d > 5 Boolean indexing을 적용 ; 데이터값이 5보다 큰 데이터만 추출\n",
        "array3 = array1d[array1d>5]\n",
        "print('array1d>5 불린 인덱싱 결과 값:', array3)\n"
      ],
      "metadata": {
        "colab": {
          "base_uri": "https://localhost:8080/"
        },
        "id": "xYkl1qQm7RhY",
        "outputId": "78268124-3aae-49a3-b491-398c35059a61"
      },
      "execution_count": 25,
      "outputs": [
        {
          "output_type": "stream",
          "name": "stdout",
          "text": [
            "array1d>5 불린 인덱싱 결과 값: [6 7 8 9]\n"
          ]
        }
      ]
    },
    {
      "cell_type": "code",
      "source": [
        "array1d>5 # 반환값을 보면, 5보다큰 값은 True, 작은 값은 False가 반환"
      ],
      "metadata": {
        "colab": {
          "base_uri": "https://localhost:8080/"
        },
        "id": "0dn6lV3G76s8",
        "outputId": "295196fc-5b01-426c-f729-a6f5b37c422f"
      },
      "execution_count": 26,
      "outputs": [
        {
          "output_type": "execute_result",
          "data": {
            "text/plain": [
              "array([False, False, False, False, False,  True,  True,  True,  True])"
            ]
          },
          "metadata": {},
          "execution_count": 26
        }
      ]
    },
    {
      "cell_type": "code",
      "source": [
        "boolean_indexes = np.array([False, False, False, False, False,  True,  True,  True,  True])\n",
        "array3= array1d[boolean_indexes]\n",
        "print('불린 인덱스로 필터링 결과:',array3)"
      ],
      "metadata": {
        "colab": {
          "base_uri": "https://localhost:8080/"
        },
        "id": "t9cZnat49Pzl",
        "outputId": "5f98c56d-853b-44e9-fb11-fa3c7333dc61"
      },
      "execution_count": 27,
      "outputs": [
        {
          "output_type": "stream",
          "name": "stdout",
          "text": [
            "불린 인덱스로 필터링 결과: [6 7 8 9]\n"
          ]
        }
      ]
    },
    {
      "cell_type": "code",
      "source": [
        "indexes = np.array([5,6,7,8])\n",
        "array4 = array1d[indexes]\n",
        "print('일반 인덱스로 필터링 결과:',array4)"
      ],
      "metadata": {
        "colab": {
          "base_uri": "https://localhost:8080/"
        },
        "id": "lslRjwpG9kBl",
        "outputId": "7b57d5e0-1f46-4286-c772-42c9e236902b"
      },
      "execution_count": 28,
      "outputs": [
        {
          "output_type": "stream",
          "name": "stdout",
          "text": [
            "일반 인덱스로 필터링 결과: [6 7 8 9]\n"
          ]
        }
      ]
    },
    {
      "cell_type": "code",
      "source": [
        "boolean_indexes = np.array([False,False,False,False,False,True,True,True,True])\n",
        "array3= array1d[boolean_indexes]\n",
        "print('불린 인덱스로 필터링 결과:', array3)\n"
      ],
      "metadata": {
        "colab": {
          "base_uri": "https://localhost:8080/"
        },
        "id": "5zZdvDcy7_TH",
        "outputId": "4d166256-61d9-4fba-82b5-e6153906204a"
      },
      "execution_count": 30,
      "outputs": [
        {
          "output_type": "stream",
          "name": "stdout",
          "text": [
            "불린 인덱스로 필터링 결과: [6 7 8 9]\n"
          ]
        }
      ]
    },
    {
      "cell_type": "code",
      "source": [
        "# 위의 boolean 코드와 결과 동일\n",
        "indexes = np.array([5,6,7,8])\n",
        "array4=array1d[indexes]\n",
        "print('일반 인덱스로 필터링 결과:',array4)"
      ],
      "metadata": {
        "colab": {
          "base_uri": "https://localhost:8080/"
        },
        "id": "T53f20em-OQO",
        "outputId": "166b5969-896d-4136-dd5d-6e83f7692e1d"
      },
      "execution_count": 31,
      "outputs": [
        {
          "output_type": "stream",
          "name": "stdout",
          "text": [
            "일반 인덱스로 필터링 결과: [6 7 8 9]\n"
          ]
        }
      ]
    },
    {
      "cell_type": "markdown",
      "source": [
        "**행렬의 정렬-sort(), argsort()**"
      ],
      "metadata": {
        "id": "4lsIm2ZY-kyU"
      }
    },
    {
      "cell_type": "code",
      "source": [
        "#np.sort()  넘파이에서 sort()를 호출하는 방식. ndarrary.sort() 같이 행렬자체에서 sort()를 호출하는 방식\n",
        "\n",
        "org_array = np.array([3,1,9,5])\n",
        "print('원본 행렬:',org_array)\n",
        "\n",
        "#np.sort()로 정렬\n",
        "sort_array1= np.sort(org_array)\n",
        "print ('np.sort()호출 후 반환된 정렬 행렬:',sort_array1)\n",
        "print('np.sort()호출후 원본 행렬:',org_array)\n",
        "\n",
        "#ndarray.sort() 로 정렬\n",
        "sort_array2= org_array.sort()\n",
        "print('org_array.sort()호출 후 반환된 행렬:', sort_array2)\n",
        "print('org_array.sort() 호출 후 원본 행렬:', org_array)\n",
        "\n",
        "#정리: [3,1,9,5] 원본 행렬에 대해\n",
        "# np.sort() -> 정렬된 형태로 반환 / ndarray.sort() -> 원본 행렬 자체를 정렬후 변환\n"
      ],
      "metadata": {
        "colab": {
          "base_uri": "https://localhost:8080/"
        },
        "id": "8Qc7Ss2O-hy7",
        "outputId": "22448c44-2f1b-4594-aad7-3ff92df18219"
      },
      "execution_count": 34,
      "outputs": [
        {
          "output_type": "stream",
          "name": "stdout",
          "text": [
            "원본 행렬: [3 1 9 5]\n",
            "np.sort()호출 후 반환된 정렬 행렬: [1 3 5 9]\n",
            "np.sort()호출후 원본 행렬: [3 1 9 5]\n",
            "org_array.sort()호출 후 반환된 행렬: None\n",
            "org_array.sort() 호출 후 반환된 행렬: [1 3 5 9]\n"
          ]
        }
      ]
    },
    {
      "cell_type": "code",
      "source": [
        "sort_array1_desc = np.sort(org_array)[::-1] #내림차순으로 정렬하려면 np.sort()[::-1] 사용\n",
        "print('내림차순으로 정렬:',sort_array1_desc)"
      ],
      "metadata": {
        "colab": {
          "base_uri": "https://localhost:8080/"
        },
        "id": "kqfCYM55Khhh",
        "outputId": "ebee01d6-f493-4d24-81cc-90dffac66e03"
      },
      "execution_count": 39,
      "outputs": [
        {
          "output_type": "stream",
          "name": "stdout",
          "text": [
            "내림차순으로 정렬: [9 5 3 1]\n"
          ]
        }
      ]
    },
    {
      "cell_type": "code",
      "source": [
        "#2차원 이상의 행렬의 경우 axis 축 값 설정으로 통해 row, column 방향으로 정렬 수행 가능\n",
        "array2d = np.array([[8,12],\n",
        "                  [7,1]])\n",
        "sort_array2d_axis0= np.sort(array2d,axis=0)\n",
        "print('로우 방향으로 정렬:', sort_array2d_axis0)\n",
        "\n",
        "sort_array2d_axis1= np.sort(array2d,axis=1)\n",
        "print('칼럼 방향으로 정렬:', sort_array2d_axis1)\n"
      ],
      "metadata": {
        "colab": {
          "base_uri": "https://localhost:8080/"
        },
        "id": "cD9uFC1sK6tT",
        "outputId": "1464a2cd-932a-4b9d-d303-65441c1a5b17"
      },
      "execution_count": 42,
      "outputs": [
        {
          "output_type": "stream",
          "name": "stdout",
          "text": [
            "로우 방향으로 정렬: [[ 7  1]\n",
            " [ 8 12]]\n",
            "칼럼 방향으로 정렬: [[ 8 12]\n",
            " [ 1  7]]\n"
          ]
        }
      ]
    },
    {
      "cell_type": "markdown",
      "source": [
        "**정렬된 행렬의 인덱스 반환하기**\n",
        "-> 원본 행렬이 정렬된후 기존 원본행렬의 원소에 대한 인덱스를 얻을때:\n",
        "np.argsort() 사용. (정렬행렬의 원본 행렬 인덱스를 반환)"
      ],
      "metadata": {
        "id": "Am631zTFL9f0"
      }
    },
    {
      "cell_type": "code",
      "source": [
        "org_array=np.array([3,1,9,5])\n",
        "sort_indices= np.argsort(org_array)  # [3,1,9,5]의 정렬 된 행렬의 원본 행렬 인덱스는 [1,0,3,2]\n",
        "print(type(sort_indices))\n",
        "print('행렬 정렬 시 원본 행렬의 인덱스:',sort_indices)"
      ],
      "metadata": {
        "colab": {
          "base_uri": "https://localhost:8080/"
        },
        "id": "za1r1UsEL68f",
        "outputId": "ad200ba3-6ad2-440e-f4b2-96b888c83954"
      },
      "execution_count": 43,
      "outputs": [
        {
          "output_type": "stream",
          "name": "stdout",
          "text": [
            "<class 'numpy.ndarray'>\n",
            "행렬 정렬 시 원본 행렬의 인덱스: [1 0 3 2]\n"
          ]
        }
      ]
    },
    {
      "cell_type": "code",
      "source": [
        "org_array=np.array([3,1,9,5])\n",
        "sort_indices_desc= np.argsort(org_array)[::-1]  # 내림차순으로 정렬시에 원본 행렬 인덱스를 구하는 방법 [::-1] 이용\n",
        "print('행렬 내림차순 정렬 시 원본 행렬의 인덱스:',sort_indices_desc)"
      ],
      "metadata": {
        "id": "LVh4-JnMM6Om"
      },
      "execution_count": null,
      "outputs": []
    },
    {
      "cell_type": "code",
      "source": [
        "name_array= np.array(['John','Mike','Sarah','Kate','Samuel'])\n",
        "score_array=np.array([78,95,84,98,88])\n",
        "\n",
        "sort_indices_asc= np.argsort(score_array)\n",
        "print('성적 오름차순 정렬 시 score_array의 인덱스:', sort_indices_asc)\n",
        "print('성적 오름차순으로 name_array의 이름 출력:', name_array[sort_indices_asc])\n"
      ],
      "metadata": {
        "colab": {
          "base_uri": "https://localhost:8080/"
        },
        "id": "giVs7mD9JLUD",
        "outputId": "4611b7da-530d-40c1-fa76-1266338eb61c"
      },
      "execution_count": 44,
      "outputs": [
        {
          "output_type": "stream",
          "name": "stdout",
          "text": [
            "성적 오름차순 정렬 시 score_array의 인덱스: [0 2 4 1 3]\n",
            "성적 오름차순으로 name_array의 이름 출력: ['John' 'Sarah' 'Samuel' 'Mike' 'Kate']\n"
          ]
        }
      ]
    },
    {
      "cell_type": "markdown",
      "source": [
        "**선형대수 연산- 행렬 내적과 전치 행렬 구하기**\n",
        "\n",
        "\n",
        "> 내적: dot 함수\n",
        "> 전치행렬: transpose()\n",
        "\n",
        "\n"
      ],
      "metadata": {
        "id": "LNN6TxjmQlz_"
      }
    },
    {
      "cell_type": "code",
      "source": [
        "A= np.array([[1,2,3,],[4,5,6,]])\n",
        "B= np.array([[7,8],[9,10],[11,12]])\n",
        "dot_product= np.dot(A,B)\n",
        "print('행렬내적결과: ', dot_product)"
      ],
      "metadata": {
        "colab": {
          "base_uri": "https://localhost:8080/"
        },
        "id": "DDKL2OoBQtxx",
        "outputId": "3315acb3-425c-45a2-d636-0c29ee28fbac"
      },
      "execution_count": 45,
      "outputs": [
        {
          "output_type": "stream",
          "name": "stdout",
          "text": [
            "행렬내적결과:  [[ 58  64]\n",
            " [139 154]]\n"
          ]
        }
      ]
    },
    {
      "cell_type": "code",
      "source": [
        "A= np.array([[1,2],[3,4]])\n",
        "transpose_mat= np.transpose(A)\n",
        "print('A의 전치 행렬:', transpose_mat)"
      ],
      "metadata": {
        "colab": {
          "base_uri": "https://localhost:8080/"
        },
        "id": "BY0IPZwgQlEu",
        "outputId": "3aac93f7-25f7-47e8-fc9e-3bdac3a50966"
      },
      "execution_count": 46,
      "outputs": [
        {
          "output_type": "stream",
          "name": "stdout",
          "text": [
            "A의 전치 행렬: [[1 3]\n",
            " [2 4]]\n"
          ]
        }
      ]
    }
  ]
}