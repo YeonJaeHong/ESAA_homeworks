{
  "nbformat": 4,
  "nbformat_minor": 0,
  "metadata": {
    "colab": {
      "provenance": [],
      "authorship_tag": "ABX9TyOQDDXBrlJ2Z2FqUeTlfw1O",
      "include_colab_link": true
    },
    "kernelspec": {
      "name": "python3",
      "display_name": "Python 3"
    },
    "language_info": {
      "name": "python"
    }
  },
  "cells": [
    {
      "cell_type": "markdown",
      "metadata": {
        "id": "view-in-github",
        "colab_type": "text"
      },
      "source": [
        "<a href=\"https://colab.research.google.com/github/YeonJaeHong/ESAA_homeworks/blob/main/11_20_%EA%B3%BC%EC%A0%9C.ipynb\" target=\"_parent\"><img src=\"https://colab.research.google.com/assets/colab-badge.svg\" alt=\"Open In Colab\"/></a>"
      ]
    },
    {
      "cell_type": "markdown",
      "source": [
        "파이썬 머신러닝\n",
        "6-03.LDA (393~)"
      ],
      "metadata": {
        "id": "_tnSsQlT-FlJ"
      }
    },
    {
      "cell_type": "markdown",
      "source": [
        "LDA: 선형 판별 분석법\n",
        "\n",
        "\n",
        "*   PCA 와 유사하지만 지도학습의 분류에서 사용하기 쉽도록 개별 클래스를 분별할 수 있는 기준을 최대한 유지하면서 차원을 축소한다는 점이 독특\n",
        "*  입력 데이터의 변동성이 가장 큰 축을 찾는것이 PCA 이지만, LDA는 입력 데이터의 결정 값 클래스를 최대한으로 분리할 수 있는 축을 찾는것\n",
        "\n",
        "\n",
        "*   LDA는 특정 공간상에서 클래스 분리를 최대화 하는 축을 찾기 위해 클래스간 분산과 클래스 내부 분산의 비율을 최대하화하는 방식으로 차원을 축소\n",
        "\n",
        "\n",
        "\n",
        "1.   클래스 내부와 클래스간 분산 행렬을 구하고 이 두개의 행렬은 입력 데이터의 결정값 클래스별로 개별 피처의 평균 벡터를 기반으로 구함\n",
        "2.   클래스 내부 분산 행렬과 클래스간 분산 행렬을 고유벡터로 분해 가능\n",
        "3. 고유값이 가장 큰 순으로 K개 추출\n",
        "4. 고유값이 가장 큰 순으로 추출된 고유벡터를 이용해 새롭게 입력 데이터를 변환\n",
        "\n",
        "\n",
        "\n",
        "\n",
        "\n"
      ],
      "metadata": {
        "id": "G1_KrXTh-PId"
      }
    },
    {
      "cell_type": "markdown",
      "source": [
        "붓꽃 데이터 세트에 LDA 적용하기\n"
      ],
      "metadata": {
        "id": "Mz7bfTAk_GBY"
      }
    },
    {
      "cell_type": "code",
      "source": [
        "import pandas as pd\n",
        "import numpy as np\n",
        "from sklearn.discriminant_analysis import LinearDiscriminantAnalysis\n",
        "from sklearn.preprocessing import StandardScaler\n",
        "from sklearn.datasets import load_iris\n"
      ],
      "metadata": {
        "id": "Yg5aA_wV_Vxq"
      },
      "execution_count": 2,
      "outputs": []
    },
    {
      "cell_type": "code",
      "source": [
        "iris=load_iris()\n",
        "iris_scaled= StandardScaler().fit_transform(iris.data)"
      ],
      "metadata": {
        "id": "E4_e1cRN_r_R"
      },
      "execution_count": 3,
      "outputs": []
    },
    {
      "cell_type": "markdown",
      "source": [
        "2개의 컴포넌트로 변환하고 클래스의 결정값이 변환시에 필요하다 (지도학습이라서)"
      ],
      "metadata": {
        "id": "zFMtir6K_65G"
      }
    },
    {
      "cell_type": "code",
      "source": [
        "lda=LinearDiscriminantAnalysis(n_components=2)\n",
        "lda.fit(iris_scaled,iris.target)\n",
        "iris_lda=lda.transform(iris_scaled)\n",
        "print(iris_lda.shape)"
      ],
      "metadata": {
        "colab": {
          "base_uri": "https://localhost:8080/"
        },
        "id": "Gj0fYqQSACMb",
        "outputId": "820cffd6-636a-4664-fbc8-711e67b62d67"
      },
      "execution_count": 4,
      "outputs": [
        {
          "output_type": "stream",
          "name": "stdout",
          "text": [
            "(150, 2)\n"
          ]
        }
      ]
    },
    {
      "cell_type": "code",
      "source": [
        "import pandas as pd\n",
        "import matplotlib.pyplot as plt\n",
        "%matplotlib inline\n",
        "\n",
        "lda_columns=['lda_component_1','lda_component_2']\n",
        "iris_df_lda= pd.DataFrame(iris_lda,columns=lda_columns)\n",
        "iris_df_lda['target']=iris.target\n",
        "\n",
        "markers = [\"^\", \"s\", \"o\"]\n",
        "# 0:setosa, 1:versicolor, 2:virginica\n",
        "for i, marker in enumerate(markers):\n",
        "    x_axis_data = iris_df_lda[iris_df_lda['target']==i]['lda_component_1']\n",
        "    y_axis_data = iris_df_lda[iris_df_lda['target']==i]['lda_component_2']\n",
        "    plt.scatter(x_axis_data, y_axis_data, marker=marker, label=iris.target_names[i])"
      ],
      "metadata": {
        "colab": {
          "base_uri": "https://localhost:8080/",
          "height": 430
        },
        "id": "TFb2xhRJARqE",
        "outputId": "08f8e016-3962-48e4-fef6-14b5ff7f0b12"
      },
      "execution_count": 5,
      "outputs": [
        {
          "output_type": "display_data",
          "data": {
            "text/plain": [
              "<Figure size 640x480 with 1 Axes>"
            ],
            "image/png": "[encoded data removed]"
          },
          "metadata": {}
        }
      ]
    },
    {
      "cell_type": "markdown",
      "source": [
        "04.SVD"
      ],
      "metadata": {
        "id": "-8OTAlEtBWXg"
      }
    },
    {
      "cell_type": "code",
      "source": [],
      "metadata": {
        "id": "YHp0hGcEA8Wl"
      },
      "execution_count": null,
      "outputs": []
    }
  ]
}